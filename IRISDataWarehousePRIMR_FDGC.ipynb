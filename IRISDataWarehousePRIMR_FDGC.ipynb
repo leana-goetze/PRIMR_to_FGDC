{
 "cells": [
  {
   "cell_type": "code",
   "execution_count": 1,
   "metadata": {},
   "outputs": [],
   "source": [
    "import pyodbc\n",
    "import pandas as pd\n",
    "import getpass"
   ]
  },
  {
   "cell_type": "code",
   "execution_count": 2,
   "metadata": {},
   "outputs": [],
   "source": [
    "# Specify database connection parameters\n",
    "server = \"ifw9ecos-bvdb11.fws.doi.net\\ecos_beta\"\n",
    "database = \"IRIS_DataWarehouse\"\n",
    "\n",
    "# Uncomment if not using Windows authentication\n",
    "#username = input()\n",
    "#password = getpass.getpass()"
   ]
  },
  {
   "cell_type": "markdown",
   "metadata": {},
   "source": [
    "Leana adding this as a test"
   ]
  },
  {
   "cell_type": "code",
   "execution_count": 3,
   "metadata": {},
   "outputs": [
    {
     "ename": "InterfaceError",
     "evalue": "('28000', \"[28000] [Microsoft][ODBC SQL Server Driver][SQL Server]Login failed for user 'IFW\\\\lgoetze'. (18456) (SQLDriverConnect); [28000] [Microsoft][ODBC SQL Server Driver]Invalid connection string attribute (0); [28000] [Microsoft][ODBC SQL Server Driver][SQL Server]Login failed for user 'IFW\\\\lgoetze'. (18456); [28000] [Microsoft][ODBC SQL Server Driver]Invalid connection string attribute (0)\")",
     "output_type": "error",
     "traceback": [
      "\u001b[1;31m---------------------------------------------------------------------------\u001b[0m",
      "\u001b[1;31mInterfaceError\u001b[0m                            Traceback (most recent call last)",
      "\u001b[1;32m<ipython-input-3-732d46b14a26>\u001b[0m in \u001b[0;36m<module>\u001b[1;34m()\u001b[0m\n\u001b[0;32m     19\u001b[0m \u001b[1;31m#    PWD=\" + password)\u001b[0m\u001b[1;33m\u001b[0m\u001b[1;33m\u001b[0m\u001b[0m\n\u001b[0;32m     20\u001b[0m \u001b[1;33m\u001b[0m\u001b[0m\n\u001b[1;32m---> 21\u001b[1;33m \u001b[0mdb_connection\u001b[0m \u001b[1;33m=\u001b[0m \u001b[0mpyodbc\u001b[0m\u001b[1;33m.\u001b[0m\u001b[0mconnect\u001b[0m\u001b[1;33m(\u001b[0m\u001b[1;34m\"    DRIVER={SQL Server};    SERVER=\"\u001b[0m \u001b[1;33m+\u001b[0m \u001b[0mserver\u001b[0m \u001b[1;33m+\u001b[0m \u001b[1;34m\";    PORT=1443;    DATABASE=\"\u001b[0m \u001b[1;33m+\u001b[0m \u001b[0mdatabase\u001b[0m \u001b[1;33m+\u001b[0m \u001b[1;34m\";    Trusted_Connection=yes\"\u001b[0m\u001b[1;33m)\u001b[0m\u001b[1;33m\u001b[0m\u001b[0m\n\u001b[0m",
      "\u001b[1;31mInterfaceError\u001b[0m: ('28000', \"[28000] [Microsoft][ODBC SQL Server Driver][SQL Server]Login failed for user 'IFW\\\\lgoetze'. (18456) (SQLDriverConnect); [28000] [Microsoft][ODBC SQL Server Driver]Invalid connection string attribute (0); [28000] [Microsoft][ODBC SQL Server Driver][SQL Server]Login failed for user 'IFW\\\\lgoetze'. (18456); [28000] [Microsoft][ODBC SQL Server Driver]Invalid connection string attribute (0)\")"
     ]
    }
   ],
   "source": [
    "##----------------------------------------------------\n",
    "# Create a database connection object using a Data Source Name (DSN)\n",
    "# defined by the Windows ODBC Data Source Administrator\n",
    "##----------------------------------------------------\n",
    "#dsn_name = \"\"\n",
    "#db_connection = pyodbc.connect(\"DSN=\"+dsn_name+\";UID=\"+username+\";PWD=\"+password)\n",
    "\n",
    "##----------------------------------------------------\n",
    "#  Create a database connection object by specifying connection parameters\n",
    "##----------------------------------------------------\n",
    "\n",
    "# Uncomment if not using Windows authentication\n",
    "#db_connection = pyodbc.connect(\"\\\n",
    "#    DRIVER={SQL Server};\\\n",
    "#    SERVER=\" + server + \";\\\n",
    "#    PORT=1443;\\\n",
    "#    DATABASE=\" + database + \";\\\n",
    "#    UID=\" + username + \";\\\n",
    "#    PWD=\" + password)\n",
    "\n",
    "db_connection = pyodbc.connect(\"\\\n",
    "    DRIVER={SQL Server};\\\n",
    "    SERVER=\" + server + \";\\\n",
    "    PORT=1443;\\\n",
    "    DATABASE=\" + database + \";\\\n",
    "    Trusted_Connection=yes\")"
   ]
  },
  {
   "cell_type": "code",
   "execution_count": null,
   "metadata": {},
   "outputs": [],
   "source": [
    "cursor = db_connection.cursor()"
   ]
  },
  {
   "cell_type": "code",
   "execution_count": null,
   "metadata": {},
   "outputs": [],
   "source": [
    "#PRIMRsurveyID = 'FF01RCOP00-003'\n",
    "#PRIMRsurveyID = 'FF01RPLM00-007'\n",
    "PRIMRsurveyID = 'FF01RORG00-072'\n",
    "PRINT(PRIMRsurveyID)"
   ]
  },
  {
   "cell_type": "code",
   "execution_count": null,
   "metadata": {},
   "outputs": [],
   "source": [
    "queryIdentification = \"SELECT [SurveyCode],[Station],[SurveyName], [SurveyType],[ResourceThemeLevel1],[ResourceThemeLevel2] ,[AnswerQ1],[AnswerQ2],[AnswerQ3],[AnswerQ4],[SurveyCoordinatorName],[SurveyCoordinatorTitle],[StationName],[SurveyArea],[ManagementUnits] FROM [IRIS_DataWarehouse].[Refuges].[VW_Surveys] WHERE [SurveyCode] = '\" + PRIMRsurveyID + \"';\"\n",
    "dfIdentification = pd.read_sql(queryIdentification, db_connection)\n",
    "dfIdentification"
   ]
  },
  {
   "cell_type": "code",
   "execution_count": 7,
   "metadata": {},
   "outputs": [
    {
     "data": {
      "text/html": [
       "<div>\n",
       "<style scoped>\n",
       "    .dataframe tbody tr th:only-of-type {\n",
       "        vertical-align: middle;\n",
       "    }\n",
       "\n",
       "    .dataframe tbody tr th {\n",
       "        vertical-align: top;\n",
       "    }\n",
       "\n",
       "    .dataframe thead th {\n",
       "        text-align: right;\n",
       "    }\n",
       "</style>\n",
       "<table border=\"1\" class=\"dataframe\">\n",
       "  <thead>\n",
       "    <tr style=\"text-align: right;\">\n",
       "      <th></th>\n",
       "      <th>theme</th>\n",
       "    </tr>\n",
       "  </thead>\n",
       "  <tbody>\n",
       "    <tr>\n",
       "      <th>0</th>\n",
       "      <td>Pacific Seabird Program</td>\n",
       "    </tr>\n",
       "  </tbody>\n",
       "</table>\n",
       "</div>"
      ],
      "text/plain": [
       "                     theme\n",
       "0  Pacific Seabird Program"
      ]
     },
     "execution_count": 7,
     "metadata": {},
     "output_type": "execute_result"
    }
   ],
   "source": [
    "queryKeywords = \"SELECT Refuges.DimKeyword.Name as theme FROM Refuges.DimKeyword RIGHT OUTER JOIN Refuges.DimSurvey INNER JOIN Refuges.FactSurveys ON Refuges.DimSurvey.ID = Refuges.FactSurveys.SurveyID INNER JOIN Refuges.FactSurveyKeywords ON Refuges.FactSurveys.SurveyID = Refuges.FactSurveyKeywords.SurveyID ON Refuges.DimKeyword.ID = Refuges.FactSurveyKeywords.KeywordID WHERE Refuges.DimSurvey.SurveyCode = '\" + PRIMRsurveyID + \"';\"\n",
    "dfKeywords = pd.read_sql(queryKeywords, db_connection)\n",
    "dfKeywords\n",
    "#dfKeywords.to_csv(\"keywords.csv\")"
   ]
  },
  {
   "cell_type": "code",
   "execution_count": 8,
   "metadata": {},
   "outputs": [
    {
     "data": {
      "text/html": [
       "<div>\n",
       "<style scoped>\n",
       "    .dataframe tbody tr th:only-of-type {\n",
       "        vertical-align: middle;\n",
       "    }\n",
       "\n",
       "    .dataframe tbody tr th {\n",
       "        vertical-align: top;\n",
       "    }\n",
       "\n",
       "    .dataframe thead th {\n",
       "        text-align: right;\n",
       "    }\n",
       "</style>\n",
       "<table border=\"1\" class=\"dataframe\">\n",
       "  <thead>\n",
       "    <tr style=\"text-align: right;\">\n",
       "      <th></th>\n",
       "      <th>SurveyCode</th>\n",
       "      <th>SurveyCoordinatorName</th>\n",
       "      <th>Title</th>\n",
       "      <th>OrganizationCode</th>\n",
       "      <th>City</th>\n",
       "      <th>StateCode</th>\n",
       "      <th>ZipCode</th>\n",
       "      <th>PhoneNumber</th>\n",
       "      <th>CellNumber</th>\n",
       "      <th>Email</th>\n",
       "      <th>Office</th>\n",
       "      <th>Department</th>\n",
       "      <th>OrgCode</th>\n",
       "    </tr>\n",
       "  </thead>\n",
       "  <tbody>\n",
       "    <tr>\n",
       "      <th>0</th>\n",
       "      <td>FF01RORG00-072</td>\n",
       "      <td>Shawn Stephensen</td>\n",
       "      <td>Wildlife Biologist</td>\n",
       "      <td>FF01ROCC00</td>\n",
       "      <td>Newport</td>\n",
       "      <td>OR</td>\n",
       "      <td>97365</td>\n",
       "      <td>541 867-4550</td>\n",
       "      <td>541-270-1863</td>\n",
       "      <td>Shawn_Stephensen@fws.gov</td>\n",
       "      <td>Newport, OR</td>\n",
       "      <td>Refuges</td>\n",
       "      <td>13594</td>\n",
       "    </tr>\n",
       "  </tbody>\n",
       "</table>\n",
       "</div>"
      ],
      "text/plain": [
       "       SurveyCode SurveyCoordinatorName               Title OrganizationCode  \\\n",
       "0  FF01RORG00-072      Shawn Stephensen  Wildlife Biologist       FF01ROCC00   \n",
       "\n",
       "      City StateCode ZipCode   PhoneNumber    CellNumber  \\\n",
       "0  Newport        OR   97365  541 867-4550  541-270-1863   \n",
       "\n",
       "                      Email       Office Department  OrgCode  \n",
       "0  Shawn_Stephensen@fws.gov  Newport, OR    Refuges    13594  "
      ]
     },
     "execution_count": 8,
     "metadata": {},
     "output_type": "execute_result"
    }
   ],
   "source": [
    "querySurveyCoordinator = \"SELECT Refuges.DimSurvey.SurveyCode, Refuges.DimSurvey.SurveyCoordinatorName, DimStaff.Title, DimStaff.OrganizationCode, DimStaff.City, DimStaff.StateCode, DimStaff.ZipCode, DimStaff.PhoneNumber, DimStaff.CellNumber, DimStaff.Email, DimStaff.Office, DimStaff.Department, DimOrganization.OrgCode FROM FactStaff INNER JOIN DimStaff ON FactStaff.StaffID = DimStaff.ID AND FactStaff.StaffID = DimStaff.ID AND FactStaff.StaffID = DimStaff.ID INNER JOIN DimOrganization ON FactStaff.OrganizationID = DimOrganization.ID AND FactStaff.OrganizationID = DimOrganization.ID AND FactStaff.OrganizationID = DimOrganization.ID RIGHT OUTER JOIN Refuges.DimSurvey ON DimStaff.FullName = Refuges.DimSurvey.SurveyCoordinatorName WHERE Refuges.DimSurvey.SurveyCode = '\" + PRIMRsurveyID + \"';\"\n",
    "dfSurveyCoordinator = pd.read_sql(querySurveyCoordinator, db_connection)\n",
    "dfSurveyCoordinator\n",
    "#dfSurveyCoordinator.to_csv(\"surveycoordinator.csv\")\n"
   ]
  },
  {
   "cell_type": "code",
   "execution_count": 9,
   "metadata": {},
   "outputs": [
    {
     "data": {
      "text/html": [
       "<div>\n",
       "<style scoped>\n",
       "    .dataframe tbody tr th:only-of-type {\n",
       "        vertical-align: middle;\n",
       "    }\n",
       "\n",
       "    .dataframe tbody tr th {\n",
       "        vertical-align: top;\n",
       "    }\n",
       "\n",
       "    .dataframe thead th {\n",
       "        text-align: right;\n",
       "    }\n",
       "</style>\n",
       "<table border=\"1\" class=\"dataframe\">\n",
       "  <thead>\n",
       "    <tr style=\"text-align: right;\">\n",
       "      <th></th>\n",
       "      <th>SurveyCode</th>\n",
       "      <th>ITIS_TSN</th>\n",
       "      <th>ITIS_TSN_Parent</th>\n",
       "      <th>ScientificName_Parent</th>\n",
       "      <th>CommonName_Parent</th>\n",
       "      <th>Rank_Parent</th>\n",
       "    </tr>\n",
       "  </thead>\n",
       "  <tbody>\n",
       "  </tbody>\n",
       "</table>\n",
       "</div>"
      ],
      "text/plain": [
       "Empty DataFrame\n",
       "Columns: [SurveyCode, ITIS_TSN, ITIS_TSN_Parent, ScientificName_Parent, CommonName_Parent, Rank_Parent]\n",
       "Index: []"
      ]
     },
     "execution_count": 9,
     "metadata": {},
     "output_type": "execute_result"
    }
   ],
   "source": [
    "queryBioticGroup = \"SELECT Refuges.DimSurvey.SurveyCode, Refuges.DimBioticGroup.ITIS_TSN, Refuges.DimBioticGroup.ITIS_TSN_Parent, Refuges.DimBioticGroup.ScientificName_Parent, Refuges.DimBioticGroup.CommonName_Parent,     Refuges.DimBioticGroup.Rank_Parent FROM Refuges.FactSurveyBioticGroups INNER JOIN Refuges.DimSurvey ON Refuges.FactSurveyBioticGroups.SurveyID = Refuges.DimSurvey.ID INNER JOIN Refuges.DimBioticGroup ON Refuges.FactSurveyBioticGroups.BioticGroupID = Refuges.DimBioticGroup.ID WHERE Refuges.DimSurvey.SurveyCode = '\" + PRIMRsurveyID + \"';\"\n",
    "dfBioticGroup = pd.read_sql(queryBioticGroup, db_connection)\n",
    "dfBioticGroup\n",
    "#dfBioticGroup.to_csv(\"bioticgroup.csv\")"
   ]
  },
  {
   "cell_type": "code",
   "execution_count": 10,
   "metadata": {},
   "outputs": [],
   "source": [
    "from pymdwizard.core.xml_utils import XMLRecord, XMLNode #import in this manner requires adding a path file to your site-packages directory\n",
    "\n",
    "test = \"C:/Users/kso/Documents/Git/PRIMR_to_FGDC/PRIMR_Metadata_Template_20220429.xml\"\n",
    "original_md = XMLRecord(test)"
   ]
  },
  {
   "cell_type": "code",
   "execution_count": 11,
   "metadata": {},
   "outputs": [],
   "source": [
    "# one-to-one is easy\n",
    "# edit individual node text\n",
    "original_md.metadata.idinfo.citation.citeinfo.title.text = dfIdentification.at[0,'SurveyName']\n",
    "original_md.metadata.idinfo.ptcontac.cntinfo.cntorgp.cntper.text = dfSurveyCoordinator.at[0,'SurveyCoordinatorName']\n",
    "original_md.metadata.idinfo.ptcontac.cntinfo.cntpos.text = dfSurveyCoordinator.at[0,'Title']"
   ]
  },
  {
   "cell_type": "code",
   "execution_count": 12,
   "metadata": {},
   "outputs": [
    {
     "data": {
      "text/plain": [
       "<metadata>\n",
       "  <idinfo>\n",
       "    <citation>\n",
       "      <citeinfo>\n",
       "        <origin>SurveyCoordinatorName from Refuges.DimSurvey</origin>\n",
       "        <origin>Other Contact Name [not available in IRIS warehouse]</origin>\n",
       "        <pubdate>\n",
       "        </pubdate>\n",
       "        <title>Tufted Puffin - Breeding Distribution and Abundance</title>\n",
       "        <edition>PRIMRproduct_v1 [what is this?]</edition>\n",
       "        <geoform>\n",
       "        </geoform>\n",
       "        <pubinfo>\n",
       "          <pubplace>CityName, StateName from DimCity</pubplace>\n",
       "          <publish>U.S. Fish and Wildlife Service</publish>\n",
       "        </pubinfo>\n",
       "        <onlink>URL to ServCat Survey Products [not available in IRIS warehouse]</onlink>\n",
       "        <lworkcit>\n",
       "          <citeinfo>\n",
       "            <origin>SurveyCoordinatorName from Refuges.DimSurvey</origin>\n",
       "            <pubdate>\n",
       "            </pubdate>\n",
       "            <title>SurveyName from Refuges.DimSurvey</title>\n",
       "            <edition>PRIMRproduct_v1 [what is this?]</edition>\n",
       "            <geoform>\n",
       "            </geoform>\n",
       "            <pubinfo>\n",
       "              <pubplace>CityName, StateName from DimCity</pubplace>\n",
       "              <publish>U.S. Fish and Wildlife Service</publish>\n",
       "            </pubinfo>\n",
       "          </citeinfo>\n",
       "        </lworkcit>\n",
       "      </citeinfo>\n",
       "    </citation>\n",
       "    <descript>\n",
       "      <abstract>Description [not available in IRIS warehouse]\n",
       "AnswerQ2 from DimSurvey\n",
       "AnswerQ3 from DimSurvey</abstract>\n",
       "      <purpose>AnswerQ1 from DimSurvey\n",
       "AnswerQ2 from DimSurvey\n",
       "AnswerQ3 from DimSurvey</purpose>\n",
       "      <supplinf>This metadata was developed through an automated process that pulls data directly from an internal USFWS system, PRIMR, and populates the appropriate (cross-walked) fields in the Metadata Wizard. Further refinement will be needed to complete the metadata record (XML), including finishing required FGDC fields where those values or data are not found directly in PRIMR (e.g. data assets or entity and attribute information). This metadata is intended as a starting point for creating metadata for PRIMR survey project and can be used to step down to a specific data asset metadata record.</supplinf>\n",
       "    </descript>\n",
       "    <timeperd>\n",
       "      <timeinfo>\n",
       "        <rngdates>\n",
       "          <begdate>\n",
       "          </begdate>\n",
       "          <enddate>\n",
       "          </enddate>\n",
       "        </rngdates>\n",
       "      </timeinfo>\n",
       "      <current>observed</current>\n",
       "    </timeperd>\n",
       "    <status>\n",
       "      <progress>In work</progress>\n",
       "      <update>Annually</update>\n",
       "    </status>\n",
       "    <spdom>\n",
       "      <descgeog>Survey Area</descgeog>\n",
       "      <bounding>\n",
       "        <westbc>-180.0000</westbc>\n",
       "        <eastbc>180.0000</eastbc>\n",
       "        <northbc>90.0000</northbc>\n",
       "        <southbc>-90.0000</southbc>\n",
       "      </bounding>\n",
       "    </spdom>\n",
       "    <keywords>\n",
       "      <theme>\n",
       "        <themekt>ISO 19115 Topic Category</themekt>\n",
       "        <themekey>environment</themekey>\n",
       "      </theme>\n",
       "      <theme>\n",
       "        <themekt>FWS-PRIMR</themekt>\n",
       "        <themekey>Name from DimKeyword</themekey>\n",
       "        <themekey>ResourceThemeLevel1 from dimSurvey</themekey>\n",
       "        <themekey>ResourceThemeLevel2 from dimSurvey</themekey>\n",
       "        <themekey>ResourceThemeLevel3 from dimSurvey</themekey>\n",
       "        <themekey>Derived Level 2 Biotic Groups</themekey>\n",
       "        <themekey>Biotic Groups Level 2</themekey>\n",
       "        <themekey>Survey Type</themekey>\n",
       "        <themekey>Survey ID</themekey>\n",
       "      </theme>\n",
       "      <place>\n",
       "        <placekt>FWS-PRIMR</placekt>\n",
       "        <placekey>Survey  Area</placekey>\n",
       "        <placekey>Management Units</placekey>\n",
       "      </place>\n",
       "    </keywords>\n",
       "    <accconst>None.  Please see 'Distribution Info' for details.</accconst>\n",
       "    <useconst>None.  Users are advised to read the dataset's metadata thoroughly to understand appropriate use and data limitations.</useconst>\n",
       "    <ptcontac>\n",
       "      <cntinfo>\n",
       "        <cntorgp>\n",
       "          <cntorg>U.S. Fish and Wildlife Service</cntorg>\n",
       "          <cntper>Shawn Stephensen</cntper>\n",
       "        </cntorgp>\n",
       "        <cntpos>Wildlife Biologist</cntpos>\n",
       "        <cntaddr>\n",
       "          <addrtype>mailing and physical</addrtype>\n",
       "          <address>CMT#</address>\n",
       "          <city>CMTcity</city>\n",
       "          <state>CMTstate</state>\n",
       "          <postal>55555</postal>\n",
       "          <country>CMTcountry</country>\n",
       "        </cntaddr>\n",
       "        <cntvoice>555-555-5555</cntvoice>\n",
       "      </cntinfo>\n",
       "    </ptcontac>\n",
       "    <datacred>Partners Level 2 (comma delimited)</datacred>\n",
       "  </idinfo>\n",
       "  <dataqual>\n",
       "    <attracc>\n",
       "      <attraccr>\n",
       "      </attraccr>\n",
       "    </attracc>\n",
       "    <logic>\n",
       "    </logic>\n",
       "    <complete>\n",
       "    </complete>\n",
       "    <lineage>\n",
       "      <procstep>\n",
       "        <procdesc>This metadata was developed through an automated process that pulls data directly from an internal USFWS system, PRIMR, and populates the appropriate (cross-walked) fields in the Metadata Wizard. Further refinement will be needed to complete the metadata record (XML), including finishing required FGDC fields where those values or data are not found directly in PRIMR (e.g. data assets or entity and attribute information). This metadata is intended as a starting point for creating metadata for PRIMR survey project and can be used to step down to a specific data asset metadata record.</procdesc>\n",
       "        <procdate>Unknown</procdate>\n",
       "      </procstep>\n",
       "    </lineage>\n",
       "  </dataqual>\n",
       "  <distinfo>\n",
       "    <distrib>\n",
       "      <cntinfo>\n",
       "        <cntorgp>\n",
       "          <cntorg>U.S. Fish and Wildlife Service</cntorg>\n",
       "        </cntorgp>\n",
       "        <cntaddr>\n",
       "          <addrtype>mailing and physical</addrtype>\n",
       "          <address>CMT#</address>\n",
       "          <city>CMTcity</city>\n",
       "          <state>CMTstate</state>\n",
       "          <postal>55555</postal>\n",
       "          <country>CMTcountry</country>\n",
       "        </cntaddr>\n",
       "        <cntvoice>555-555-5555</cntvoice>\n",
       "      </cntinfo>\n",
       "    </distrib>\n",
       "    <distliab>Unless otherwise stated, all data, metadata and related materials are considered to satisfy the quality standards relative to the purpose for which the data were collected. Although these data and associated metadata have been reviewed for accuracy and completeness and approved for release by the U.S. Fish and Wildlife Service (USFWS), no warranty expressed or implied is made regarding the display or utility of the data on any other system or for general or scientific purposes, nor shall the act of distribution constitute any such warranty.</distliab>\n",
       "    <stdorder>\n",
       "      <digform>\n",
       "        <digtinfo>\n",
       "          <formname>Digital Data</formname>\n",
       "        </digtinfo>\n",
       "        <digtopt>\n",
       "          <onlinopt>\n",
       "            <computer>\n",
       "              <networka>\n",
       "                <networkr>\n",
       "                </networkr>\n",
       "              </networka>\n",
       "            </computer>\n",
       "          </onlinopt>\n",
       "        </digtopt>\n",
       "      </digform>\n",
       "      <fees>None</fees>\n",
       "    </stdorder>\n",
       "  </distinfo>\n",
       "  <metainfo>\n",
       "    <metd>20220314</metd>\n",
       "    <metc>\n",
       "      <cntinfo>\n",
       "        <cntorgp>\n",
       "          <cntorg>U.S. Fish and Wildlife Service</cntorg>\n",
       "        </cntorgp>\n",
       "        <cntaddr>\n",
       "          <addrtype>mailing and physical</addrtype>\n",
       "          <address>CMT#</address>\n",
       "          <city>CMTcity</city>\n",
       "          <state>CMTstate</state>\n",
       "          <postal>55555</postal>\n",
       "        </cntaddr>\n",
       "        <cntvoice>555-555-5555</cntvoice>\n",
       "      </cntinfo>\n",
       "    </metc>\n",
       "    <metstdn>FGDC Biological Data Profile of the Content Standard for Digital Geospatial Metadata</metstdn>\n",
       "    <metstdv>FGDC-STD-001.1-1999</metstdv>\n",
       "  </metainfo>\n",
       "</metadata>"
      ]
     },
     "execution_count": 12,
     "metadata": {},
     "output_type": "execute_result"
    }
   ],
   "source": [
    "original_md"
   ]
  },
  {
   "cell_type": "code",
   "execution_count": 13,
   "metadata": {},
   "outputs": [
    {
     "data": {
      "text/html": [
       "<div>\n",
       "<style scoped>\n",
       "    .dataframe tbody tr th:only-of-type {\n",
       "        vertical-align: middle;\n",
       "    }\n",
       "\n",
       "    .dataframe tbody tr th {\n",
       "        vertical-align: top;\n",
       "    }\n",
       "\n",
       "    .dataframe thead th {\n",
       "        text-align: right;\n",
       "    }\n",
       "</style>\n",
       "<table border=\"1\" class=\"dataframe\">\n",
       "  <thead>\n",
       "    <tr style=\"text-align: right;\">\n",
       "      <th></th>\n",
       "      <th>theme</th>\n",
       "    </tr>\n",
       "  </thead>\n",
       "  <tbody>\n",
       "    <tr>\n",
       "      <th>0</th>\n",
       "      <td>Biological Integrity</td>\n",
       "    </tr>\n",
       "    <tr>\n",
       "      <th>1</th>\n",
       "      <td>Other Biota</td>\n",
       "    </tr>\n",
       "    <tr>\n",
       "      <th>2</th>\n",
       "      <td>Monitoring to Inform Management</td>\n",
       "    </tr>\n",
       "    <tr>\n",
       "      <th>3</th>\n",
       "      <td>FF01RORG00-072</td>\n",
       "    </tr>\n",
       "    <tr>\n",
       "      <th>4</th>\n",
       "      <td>Pacific Seabird Program</td>\n",
       "    </tr>\n",
       "  </tbody>\n",
       "</table>\n",
       "</div>"
      ],
      "text/plain": [
       "                             theme\n",
       "0             Biological Integrity\n",
       "1                      Other Biota\n",
       "2  Monitoring to Inform Management\n",
       "3                   FF01RORG00-072\n",
       "4          Pacific Seabird Program"
      ]
     },
     "execution_count": 13,
     "metadata": {},
     "output_type": "execute_result"
    }
   ],
   "source": [
    "dfKeywordsSet = (\n",
    "    pd.DataFrame(dfIdentification)\n",
    "    .loc[:, ['ResourceThemeLevel1', 'ResourceThemeLevel2', 'SurveyType', 'SurveyCode']]\n",
    "    .melt()\n",
    "    .drop(columns=['variable'])\n",
    "    .rename(columns={'value':'theme'})\n",
    "    .append(dfKeywords)\n",
    "    .append((\n",
    "        pd.DataFrame(dfBioticGroup)\n",
    "        .loc[:, ['ScientificName_Parent']]\n",
    "        .melt()\n",
    "        .drop(columns=['variable'])\n",
    "        .rename(columns={'value':'theme'})),\n",
    "        ignore_index=True\n",
    "    )\n",
    ")\n",
    "dfKeywordsSet"
   ]
  },
  {
   "cell_type": "code",
   "execution_count": 14,
   "metadata": {},
   "outputs": [
    {
     "data": {
      "text/plain": [
       "<keywords>\n",
       "  <place>\n",
       "    <placekt>FWS-PRIMR</placekt>\n",
       "    <placekey>Survey  Area</placekey>\n",
       "    <placekey>Management Units</placekey>\n",
       "  </place>\n",
       "</keywords>"
      ]
     },
     "execution_count": 14,
     "metadata": {},
     "output_type": "execute_result"
    }
   ],
   "source": [
    "kw = original_md.metadata.idinfo.keywords\n",
    "kw.clear_children('theme')\n",
    "kw"
   ]
  },
  {
   "cell_type": "code",
   "execution_count": 15,
   "metadata": {},
   "outputs": [],
   "source": [
    "def createXMLNode_from_df(df, subelement_tag, optional_element_tag):\n",
    "    xml_data = ['<root>']\n",
    "    for column in df.columns:\n",
    "        xml_data.append('<{}>'.format(column))  # Opening element tag\n",
    "        xml_data.append(optional_element_tag.format(column))\n",
    "        for field in df.index:\n",
    "            # writing sub-elements\n",
    "            xml_data.append('<temp_tag>{1}</temp_tag>'.format(field, df[column][field]))\n",
    "        xml_data.append('</{}>'.format(column))  # Closing element tag\n",
    "    xml_data.append('</root>')\n",
    "\n",
    "    my_string = \"\"\n",
    "    for i in xml_data:\n",
    "        my_string += ('{}').format(i)\n",
    "\n",
    "    new_string = (\n",
    "        my_string\n",
    "            .replace('<root>','')\n",
    "            .replace('</root>','')\n",
    "            .replace('temp_tag',subelement_tag)\n",
    "        )\n",
    "\n",
    "    return(XMLNode(new_string))"
   ]
  },
  {
   "cell_type": "code",
   "execution_count": 16,
   "metadata": {},
   "outputs": [
    {
     "data": {
      "text/plain": [
       "<theme>\n",
       "  <themekt>FWS-PRIMR</themekt>\n",
       "  <themekey>Biological Integrity</themekey>\n",
       "  <themekey>Other Biota</themekey>\n",
       "  <themekey>Monitoring to Inform Management</themekey>\n",
       "  <themekey>FF01RORG00-072</themekey>\n",
       "  <themekey>Pacific Seabird Program</themekey>\n",
       "</theme>"
      ]
     },
     "execution_count": 16,
     "metadata": {},
     "output_type": "execute_result"
    }
   ],
   "source": [
    "newKW = createXMLNode_from_df(dfKeywordsSet, \"themekey\", \"<themekt>FWS-PRIMR</themekt>\")\n",
    "newKW"
   ]
  },
  {
   "cell_type": "code",
   "execution_count": 17,
   "metadata": {},
   "outputs": [
    {
     "data": {
      "text/plain": [
       "<keywords>\n",
       "  <place>\n",
       "    <placekt>FWS-PRIMR</placekt>\n",
       "    <placekey>Survey  Area</placekey>\n",
       "    <placekey>Management Units</placekey>\n",
       "  </place>\n",
       "  <theme>\n",
       "    <themekt>FWS-PRIMR</themekt>\n",
       "    <themekey>Biological Integrity</themekey>\n",
       "    <themekey>Other Biota</themekey>\n",
       "    <themekey>Monitoring to Inform Management</themekey>\n",
       "    <themekey>FF01RORG00-072</themekey>\n",
       "    <themekey>Pacific Seabird Program</themekey>\n",
       "  </theme>\n",
       "</keywords>"
      ]
     },
     "execution_count": 17,
     "metadata": {},
     "output_type": "execute_result"
    }
   ],
   "source": [
    "kw.add_child(newKW)\n",
    "kw"
   ]
  },
  {
   "cell_type": "code",
   "execution_count": 18,
   "metadata": {},
   "outputs": [],
   "source": [
    "# write to new xml\n",
    "original_md.save(fname='PRIMR_Metadata_Template_20220429Testing.xml')"
   ]
  }
 ],
 "metadata": {
  "kernelspec": {
   "display_name": "Python 3",
   "language": "python",
   "name": "python3"
  },
  "language_info": {
   "codemirror_mode": {
    "name": "ipython",
    "version": 3
   },
   "file_extension": ".py",
   "mimetype": "text/x-python",
   "name": "python",
   "nbconvert_exporter": "python",
   "pygments_lexer": "ipython3",
   "version": "3.6.5"
  }
 },
 "nbformat": 4,
 "nbformat_minor": 5
}
